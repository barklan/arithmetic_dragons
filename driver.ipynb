{
 "cells": [
  {
   "cell_type": "code",
   "execution_count": 1,
   "metadata": {},
   "outputs": [],
   "source": [
    "from IPython.display import Image, SVG\n",
    "from importlib import reload"
   ]
  },
  {
   "cell_type": "code",
   "execution_count": 7,
   "metadata": {},
   "outputs": [
    {
     "name": "stdout",
     "output_type": "stream",
     "text": [
      "parsing gameunit.py...\n",
      "parsing hero.py...\n",
      "parsing enemies.py...\n"
     ]
    }
   ],
   "source": [
    "!pyreverse -o gameunit.svg gameunit.py\n",
    "!pyreverse -o hero.svg hero.py\n",
    "!pyreverse -o enemies.svg enemies.py"
   ]
  },
  {
   "cell_type": "code",
   "execution_count": 8,
   "metadata": {},
   "outputs": [
    {
     "data": {
      "image/svg+xml": [
       "<svg xmlns=\"http://www.w3.org/2000/svg\" xmlns:xlink=\"http://www.w3.org/1999/xlink\" width=\"97pt\" height=\"94pt\" viewBox=\"0.00 0.00 97.00 94.00\">\n",
       "<g id=\"graph0\" class=\"graph\" transform=\"scale(1 1) rotate(0) translate(4 90)\">\n",
       "<title>classes</title>\n",
       "<polygon fill=\"white\" stroke=\"none\" points=\"-4,4 -4,-90 93,-90 93,4 -4,4\"/>\n",
       "<!-- 0 -->\n",
       "<g id=\"node1\" class=\"node\"><title>0</title>\n",
       "<polygon fill=\"none\" stroke=\"black\" points=\"0,-0.5 0,-85.5 89,-85.5 89,-0.5 0,-0.5\"/>\n",
       "<text text-anchor=\"middle\" x=\"44.5\" y=\"-70.3\" font-family=\"Times New Roman,serif\" font-size=\"14.00\">Attacker</text>\n",
       "<polyline fill=\"none\" stroke=\"black\" points=\"0,-62.5 89,-62.5 \"/>\n",
       "<polyline fill=\"none\" stroke=\"black\" points=\"0,-38.5 89,-38.5 \"/>\n",
       "<text text-anchor=\"start\" x=\"8\" y=\"-23.3\" font-family=\"Times New Roman,serif\" font-size=\"14.00\">attack(target)</text>\n",
       "<text text-anchor=\"start\" x=\"8\" y=\"-8.3\" font-family=\"Times New Roman,serif\" font-size=\"14.00\">is_alive()</text>\n",
       "</g>\n",
       "</g>\n",
       "</svg>"
      ],
      "text/plain": [
       "<IPython.core.display.SVG object>"
      ]
     },
     "execution_count": 8,
     "metadata": {},
     "output_type": "execute_result"
    }
   ],
   "source": [
    "SVG('classes.gameunit.svg')"
   ]
  },
  {
   "cell_type": "code",
   "execution_count": 9,
   "metadata": {},
   "outputs": [
    {
     "data": {
      "image/svg+xml": [
       "<svg xmlns=\"http://www.w3.org/2000/svg\" xmlns:xlink=\"http://www.w3.org/1999/xlink\" width=\"560pt\" height=\"308pt\" viewBox=\"0.00 0.00 560.00 308.00\">\n",
       "<g id=\"graph0\" class=\"graph\" transform=\"scale(1 1) rotate(0) translate(4 304)\">\n",
       "<title>classes</title>\n",
       "<polygon fill=\"white\" stroke=\"none\" points=\"-4,4 -4,-304 556,-304 556,4 -4,4\"/>\n",
       "<!-- 0 -->\n",
       "<g id=\"node1\" class=\"node\"><title>0</title>\n",
       "<polygon fill=\"none\" stroke=\"black\" points=\"0,-0.5 0,-70.5 89,-70.5 89,-0.5 0,-0.5\"/>\n",
       "<text text-anchor=\"middle\" x=\"44.5\" y=\"-55.3\" font-family=\"Times New Roman,serif\" font-size=\"14.00\">BlackDragon</text>\n",
       "<polyline fill=\"none\" stroke=\"black\" points=\"0,-47.5 89,-47.5 \"/>\n",
       "<polyline fill=\"none\" stroke=\"black\" points=\"0,-23.5 89,-23.5 \"/>\n",
       "<text text-anchor=\"start\" x=\"8\" y=\"-8.3\" font-family=\"Times New Roman,serif\" font-size=\"14.00\">question()</text>\n",
       "</g>\n",
       "<!-- 2 -->\n",
       "<g id=\"node3\" class=\"node\"><title>2</title>\n",
       "<polygon fill=\"none\" stroke=\"black\" points=\"218.5,-107.5 218.5,-192.5 362.5,-192.5 362.5,-107.5 218.5,-107.5\"/>\n",
       "<text text-anchor=\"middle\" x=\"290.5\" y=\"-177.3\" font-family=\"Times New Roman,serif\" font-size=\"14.00\">Dragon</text>\n",
       "<polyline fill=\"none\" stroke=\"black\" points=\"218.5,-169.5 362.5,-169.5 \"/>\n",
       "<polyline fill=\"none\" stroke=\"black\" points=\"218.5,-145.5 362.5,-145.5 \"/>\n",
       "<text text-anchor=\"start\" x=\"226.5\" y=\"-130.3\" font-family=\"Times New Roman,serif\" font-size=\"14.00\">check_answer(answer)</text>\n",
       "<text text-anchor=\"start\" x=\"226.5\" y=\"-115.3\" font-family=\"Times New Roman,serif\" font-size=\"14.00\">set_answer(answer)</text>\n",
       "</g>\n",
       "<!-- 0&#45;&gt;2 -->\n",
       "<g id=\"edge1\" class=\"edge\"><title>0-&gt;2</title>\n",
       "<path fill=\"none\" stroke=\"black\" d=\"M89.2498,-66.4704C92.0103,-68.056 94.774,-69.5789 97.5,-71 132.944,-89.4776 173.786,-106.548 208.747,-119.979\"/>\n",
       "<polygon fill=\"none\" stroke=\"black\" points=\"207.851,-123.383 218.442,-123.669 210.341,-116.841 207.851,-123.383\"/>\n",
       "</g>\n",
       "<!-- 1 -->\n",
       "<g id=\"node2\" class=\"node\"><title>1</title>\n",
       "<polygon fill=\"none\" stroke=\"black\" points=\"107,-0.5 107,-70.5 226,-70.5 226,-0.5 107,-0.5\"/>\n",
       "<text text-anchor=\"middle\" x=\"166.5\" y=\"-55.3\" font-family=\"Times New Roman,serif\" font-size=\"14.00\">DifferentialDragon</text>\n",
       "<polyline fill=\"none\" stroke=\"black\" points=\"107,-47.5 226,-47.5 \"/>\n",
       "<polyline fill=\"none\" stroke=\"black\" points=\"107,-23.5 226,-23.5 \"/>\n",
       "<text text-anchor=\"start\" x=\"115\" y=\"-8.3\" font-family=\"Times New Roman,serif\" font-size=\"14.00\">question()</text>\n",
       "</g>\n",
       "<!-- 1&#45;&gt;2 -->\n",
       "<g id=\"edge2\" class=\"edge\"><title>1-&gt;2</title>\n",
       "<path fill=\"none\" stroke=\"black\" d=\"M204.041,-70.559C214.35,-79.9121 225.733,-90.24 236.762,-100.246\"/>\n",
       "<polygon fill=\"none\" stroke=\"black\" points=\"234.565,-102.978 244.323,-107.105 239.268,-97.7939 234.565,-102.978\"/>\n",
       "</g>\n",
       "<!-- 3 -->\n",
       "<g id=\"node4\" class=\"node\"><title>3</title>\n",
       "<polygon fill=\"none\" stroke=\"black\" points=\"263,-229.5 263,-299.5 318,-299.5 318,-229.5 263,-229.5\"/>\n",
       "<text text-anchor=\"middle\" x=\"290.5\" y=\"-284.3\" font-family=\"Times New Roman,serif\" font-size=\"14.00\">Enemy</text>\n",
       "<polyline fill=\"none\" stroke=\"black\" points=\"263,-276.5 318,-276.5 \"/>\n",
       "<polyline fill=\"none\" stroke=\"black\" points=\"263,-252.5 318,-252.5 \"/>\n",
       "<text text-anchor=\"middle\" x=\"290.5\" y=\"-237.3\" font-family=\"Times New Roman,serif\" font-size=\"14.00\"> </text>\n",
       "</g>\n",
       "<!-- 2&#45;&gt;3 -->\n",
       "<g id=\"edge3\" class=\"edge\"><title>2-&gt;3</title>\n",
       "<path fill=\"none\" stroke=\"black\" d=\"M290.5,-192.571C290.5,-201.299 290.5,-210.533 290.5,-219.352\"/>\n",
       "<polygon fill=\"none\" stroke=\"black\" points=\"287,-219.456 290.5,-229.457 294,-219.457 287,-219.456\"/>\n",
       "</g>\n",
       "<!-- 4 -->\n",
       "<g id=\"node5\" class=\"node\"><title>4</title>\n",
       "<polygon fill=\"none\" stroke=\"black\" points=\"244.5,-0.5 244.5,-70.5 336.5,-70.5 336.5,-0.5 244.5,-0.5\"/>\n",
       "<text text-anchor=\"middle\" x=\"290.5\" y=\"-55.3\" font-family=\"Times New Roman,serif\" font-size=\"14.00\">GreenDragon</text>\n",
       "<polyline fill=\"none\" stroke=\"black\" points=\"244.5,-47.5 336.5,-47.5 \"/>\n",
       "<polyline fill=\"none\" stroke=\"black\" points=\"244.5,-23.5 336.5,-23.5 \"/>\n",
       "<text text-anchor=\"start\" x=\"252.5\" y=\"-8.3\" font-family=\"Times New Roman,serif\" font-size=\"14.00\">question()</text>\n",
       "</g>\n",
       "<!-- 4&#45;&gt;2 -->\n",
       "<g id=\"edge4\" class=\"edge\"><title>4-&gt;2</title>\n",
       "<path fill=\"none\" stroke=\"black\" d=\"M290.5,-70.559C290.5,-78.9228 290.5,-88.0662 290.5,-97.0616\"/>\n",
       "<polygon fill=\"none\" stroke=\"black\" points=\"287,-97.1054 290.5,-107.105 294,-97.1054 287,-97.1054\"/>\n",
       "</g>\n",
       "<!-- 5 -->\n",
       "<g id=\"node6\" class=\"node\"><title>5</title>\n",
       "<polygon fill=\"none\" stroke=\"black\" points=\"354.5,-0.5 354.5,-70.5 452.5,-70.5 452.5,-0.5 354.5,-0.5\"/>\n",
       "<text text-anchor=\"middle\" x=\"403.5\" y=\"-55.3\" font-family=\"Times New Roman,serif\" font-size=\"14.00\">MythrilDragon</text>\n",
       "<polyline fill=\"none\" stroke=\"black\" points=\"354.5,-47.5 452.5,-47.5 \"/>\n",
       "<polyline fill=\"none\" stroke=\"black\" points=\"354.5,-23.5 452.5,-23.5 \"/>\n",
       "<text text-anchor=\"start\" x=\"362.5\" y=\"-8.3\" font-family=\"Times New Roman,serif\" font-size=\"14.00\">question()</text>\n",
       "</g>\n",
       "<!-- 5&#45;&gt;2 -->\n",
       "<g id=\"edge5\" class=\"edge\"><title>5-&gt;2</title>\n",
       "<path fill=\"none\" stroke=\"black\" d=\"M369.29,-70.559C359.985,-79.8221 349.721,-90.0415 339.761,-99.957\"/>\n",
       "<polygon fill=\"none\" stroke=\"black\" points=\"337.198,-97.5696 332.581,-107.105 342.137,-102.53 337.198,-97.5696\"/>\n",
       "</g>\n",
       "<!-- 6 -->\n",
       "<g id=\"node7\" class=\"node\"><title>6</title>\n",
       "<polygon fill=\"none\" stroke=\"black\" points=\"471,-0.5 471,-70.5 552,-70.5 552,-0.5 471,-0.5\"/>\n",
       "<text text-anchor=\"middle\" x=\"511.5\" y=\"-55.3\" font-family=\"Times New Roman,serif\" font-size=\"14.00\">RedDragon</text>\n",
       "<polyline fill=\"none\" stroke=\"black\" points=\"471,-47.5 552,-47.5 \"/>\n",
       "<polyline fill=\"none\" stroke=\"black\" points=\"471,-23.5 552,-23.5 \"/>\n",
       "<text text-anchor=\"start\" x=\"479\" y=\"-8.3\" font-family=\"Times New Roman,serif\" font-size=\"14.00\">question()</text>\n",
       "</g>\n",
       "<!-- 6&#45;&gt;2 -->\n",
       "<g id=\"edge6\" class=\"edge\"><title>6-&gt;2</title>\n",
       "<path fill=\"none\" stroke=\"black\" d=\"M470.948,-65.3447C467.791,-67.3231 464.619,-69.2309 461.5,-71 433.072,-87.1247 400.713,-102.572 371.851,-115.403\"/>\n",
       "<polygon fill=\"none\" stroke=\"black\" points=\"370.351,-112.239 362.612,-119.475 373.174,-118.645 370.351,-112.239\"/>\n",
       "</g>\n",
       "</g>\n",
       "</svg>"
      ],
      "text/plain": [
       "<IPython.core.display.SVG object>"
      ]
     },
     "execution_count": 9,
     "metadata": {},
     "output_type": "execute_result"
    }
   ],
   "source": [
    "SVG('classes.enemies.svg')"
   ]
  },
  {
   "cell_type": "code",
   "execution_count": 10,
   "metadata": {},
   "outputs": [
    {
     "data": {
      "image/svg+xml": [
       "<svg xmlns=\"http://www.w3.org/2000/svg\" xmlns:xlink=\"http://www.w3.org/1999/xlink\" width=\"62pt\" height=\"79pt\" viewBox=\"0.00 0.00 62.00 79.00\">\n",
       "<g id=\"graph0\" class=\"graph\" transform=\"scale(1 1) rotate(0) translate(4 75)\">\n",
       "<title>classes</title>\n",
       "<polygon fill=\"white\" stroke=\"none\" points=\"-4,4 -4,-75 58,-75 58,4 -4,4\"/>\n",
       "<!-- 0 -->\n",
       "<g id=\"node1\" class=\"node\"><title>0</title>\n",
       "<polygon fill=\"none\" stroke=\"black\" points=\"0,-0.5 0,-70.5 54,-70.5 54,-0.5 0,-0.5\"/>\n",
       "<text text-anchor=\"middle\" x=\"27\" y=\"-55.3\" font-family=\"Times New Roman,serif\" font-size=\"14.00\">Hero</text>\n",
       "<polyline fill=\"none\" stroke=\"black\" points=\"0,-47.5 54,-47.5 \"/>\n",
       "<polyline fill=\"none\" stroke=\"black\" points=\"0,-23.5 54,-23.5 \"/>\n",
       "<text text-anchor=\"middle\" x=\"27\" y=\"-8.3\" font-family=\"Times New Roman,serif\" font-size=\"14.00\"> </text>\n",
       "</g>\n",
       "</g>\n",
       "</svg>"
      ],
      "text/plain": [
       "<IPython.core.display.SVG object>"
      ]
     },
     "execution_count": 10,
     "metadata": {},
     "output_type": "execute_result"
    }
   ],
   "source": [
    "SVG('classes.hero.svg')"
   ]
  },
  {
   "cell_type": "code",
   "execution_count": 11,
   "metadata": {},
   "outputs": [
    {
     "name": "stdout",
     "output_type": "stream",
     "text": [
      "__main__\n",
      "Добро пожаловать в арифметико-ролевую игру с драконами!\n",
      "Представьтесь, пожалуйста: barklan\n",
      "У Вас на пути 3 драконов!\n",
      "Вышел дифференциальный дракон!\n",
      "Вопрос: (7x^1)' at point x=0\n",
      "Ответ:7\n",
      "Верно! \n",
      "** дракон кричит от боли **\n",
      "Дракон дифференциальный повержен!\n",
      "\n",
      "Вышел зелёный дракон!\n",
      "Вопрос: 31+45\n",
      "Ответ:76\n",
      "Верно! \n",
      "** дракон кричит от боли **\n",
      "Вопрос: 65+68\n",
      "Ответ:133\n",
      "Верно! \n",
      "** дракон кричит от боли **\n",
      "Вопрос: 48+11\n",
      "Ответ:59\n",
      "Верно! \n",
      "** дракон кричит от боли **\n",
      "Вопрос: 57+71\n",
      "Ответ:128\n",
      "Верно! \n",
      "** дракон кричит от боли **\n",
      "Дракон зелёный повержен!\n",
      "\n",
      "Вышел мифриловый дракон!\n",
      "Вопрос: guess number in range (0;10)\n",
      "Ответ:1\n",
      "Верно! \n",
      "** дракон кричит от боли **\n",
      "Дракон мифриловый повержен!\n",
      "\n",
      "Поздравляем! Вы победили!\n",
      "Ваш накопленный опыт: 17\n"
     ]
    }
   ],
   "source": [
    "%run main.py"
   ]
  }
 ],
 "metadata": {
  "kernelspec": {
   "display_name": "Python 3",
   "language": "python",
   "name": "python3"
  },
  "language_info": {
   "codemirror_mode": {
    "name": "ipython",
    "version": 3
   },
   "file_extension": ".py",
   "mimetype": "text/x-python",
   "name": "python",
   "nbconvert_exporter": "python",
   "pygments_lexer": "ipython3",
   "version": "3.8.5"
  }
 },
 "nbformat": 4,
 "nbformat_minor": 4
}
